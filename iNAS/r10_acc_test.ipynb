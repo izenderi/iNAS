{
 "cells": [
  {
   "cell_type": "code",
   "execution_count": 3,
   "metadata": {},
   "outputs": [],
   "source": [
    "from tensorflow import keras\n",
    "model = keras.models.load_model('/home/johnson/Developer/Git/iNAS/iNAS/weights/cifar_example_run/temp_network_cifar_example_run.h5')\n",
    "\n",
    "from keras.datasets import cifar10\n",
    "from keras.utils import to_categorical"
   ]
  },
  {
   "cell_type": "code",
   "execution_count": 8,
   "metadata": {},
   "outputs": [
    {
     "name": "stdout",
     "output_type": "stream",
     "text": [
      "79/79 [==============================] - 2s 23ms/step - loss: 1.5440 - accuracy: 0.4137\n",
      "313/313 [==============================] - 3s 11ms/step\n"
     ]
    }
   ],
   "source": [
    "num_class = 10\n",
    "batchsize = 128\n",
    "(x_train, y_train), (x_test, y_test) = cifar10.load_data()\n",
    "x_train = x_train.astype('float16') / 255.\n",
    "x_test = x_test.astype('float16') / 255.\n",
    "y_train = to_categorical(y_train, num_class)\n",
    "y_test = to_categorical(y_test, num_class)\n",
    "x_train = x_train.reshape(50000,32,32,3)\n",
    "\n",
    "# print(x_test)\n",
    "\n",
    "loss, acc = model.evaluate(x_test, y_test, batch_size=batchsize)\n",
    "out = model.predict(x_test)\n",
    "# print(out)"
   ]
  }
 ],
 "metadata": {
  "kernelspec": {
   "display_name": "insNAS",
   "language": "python",
   "name": "python3"
  },
  "language_info": {
   "codemirror_mode": {
    "name": "ipython",
    "version": 3
   },
   "file_extension": ".py",
   "mimetype": "text/x-python",
   "name": "python",
   "nbconvert_exporter": "python",
   "pygments_lexer": "ipython3",
   "version": "3.9.16"
  },
  "orig_nbformat": 4,
  "vscode": {
   "interpreter": {
    "hash": "0b7cb0ecc0f1d1c63fe508c352734c4cdfaba2d799ee43a7e3c9e71cb1c89238"
   }
  }
 },
 "nbformat": 4,
 "nbformat_minor": 2
}
